{
 "cells": [
  {
   "cell_type": "markdown",
   "metadata": {},
   "source": [
    "# Training a model using Synthetic Data"
   ]
  },
  {
   "cell_type": "code",
   "execution_count": 1,
   "metadata": {
    "collapsed": true
   },
   "outputs": [],
   "source": [
    "from __future__ import absolute_import\n",
    "from __future__ import print_function\n",
    "from __future__ import division\n",
    "\n",
    "import tensorflow as tf\n",
    "import numpy as np\n",
    "import os\n",
    "import time\n",
    "from datetime import datetime\n",
    "from six.moves import cPickle as pickle"
   ]
  },
  {
   "cell_type": "markdown",
   "metadata": {},
   "source": [
    "Loading Synthethic data"
   ]
  },
  {
   "cell_type": "code",
   "execution_count": 2,
   "metadata": {
    "collapsed": false
   },
   "outputs": [
    {
     "name": "stdout",
     "output_type": "stream",
     "text": [
      "(160000, 32, 32, 1) (160000, 5)\n",
      "(10000, 32, 32, 1) (10000, 5)\n",
      "(3000, 32, 32, 1) (3000, 5)\n"
     ]
    }
   ],
   "source": [
    "file_name = 'Synthetic_data/SyntheticData32.pickle'\n",
    "with open(file_name, 'rb') as f:\n",
    "    save = pickle.load(f)\n",
    "    train_dataset = save['train_dataset']\n",
    "    train_labels = save['train_labels']\n",
    "    valid_dataset = save['valid_dataset']\n",
    "    valid_labels = save['valid_labels']\n",
    "    test_dataset = save['test_dataset']\n",
    "    test_labels = save['test_labels']\n",
    "    del save\n",
    "\n",
    "valid_dataset = valid_dataset[:3000]\n",
    "valid_labels = valid_labels[:3000]\n",
    "test_dataset = test_dataset[:10000]\n",
    "test_labels = test_labels[:10000]\n",
    "print(train_dataset.shape, train_labels.shape)\n",
    "print(test_dataset.shape, test_labels.shape)\n",
    "print(valid_dataset.shape, valid_labels.shape)"
   ]
  },
  {
   "cell_type": "code",
   "execution_count": 3,
   "metadata": {
    "collapsed": true
   },
   "outputs": [],
   "source": [
    "def accuracy(predictions, labels):\n",
    "    return (100.0 * np.sum(np.argmax(predictions, 2).T == labels) / predictions.shape[1] / predictions.shape[0])"
   ]
  },
  {
   "cell_type": "code",
   "execution_count": 10,
   "metadata": {
    "collapsed": false
   },
   "outputs": [],
   "source": [
    "image_size = 32\n",
    "num_labels = 11  # 0-9, + blank \n",
    "num_channels = 1 # grayscale\n",
    "num_digits = 4\n",
    "\n",
    "batch_size = 64\n",
    "patch_size = 5\n",
    "depth1 = 16\n",
    "depth2 = 32\n",
    "depth3 = 64\n",
    "num_hidden1 = 64\n",
    "num_hidden2 = 64\n",
    "\n",
    "graph = tf.Graph()\n",
    "with graph.as_default():\n",
    "    # Input data.\n",
    "    tf_train_dataset = tf.placeholder(tf.float32, shape=(batch_size, image_size, image_size, num_channels))\n",
    "    tf_train_labels = tf.placeholder(tf.int32, shape=(batch_size, num_digits+1))\n",
    "    tf_valid_dataset = tf.constant(valid_dataset)\n",
    "    tf_test_dataset = tf.constant(test_dataset)\n",
    "    \n",
    "    # Variables.\n",
    "    layer1_weights = tf.get_variable(\"W1\", shape=[patch_size, patch_size, num_channels, depth1],\\\n",
    "                                    initializer=tf.contrib.layers.xavier_initializer_conv2d())\n",
    "    layer1_biases = tf.Variable(tf.constant(1.0, shape=[depth1]), name='B1')\n",
    "    layer2_weights = tf.get_variable(\"W2\", shape=[patch_size, patch_size, depth1, depth2],\\\n",
    "                                    initializer=tf.contrib.layers.xavier_initializer_conv2d())\n",
    "    layer2_biases = tf.Variable(tf.constant(1.0, shape=[depth2]), name='B2')\n",
    "    layer3_weights = tf.get_variable(\"W3\", shape=[patch_size, patch_size, depth2, num_hidden1],\\\n",
    "                                    initializer=tf.contrib.layers.xavier_initializer_conv2d())\n",
    "    layer3_biases = tf.Variable(tf.constant(1.0, shape=[num_hidden1]), name='B3')\n",
    "\n",
    "    # Sequence length\n",
    "    ss_w = tf.get_variable(\"WSS\", shape=[num_hidden2, num_digits + 1],\\\n",
    "                           initializer=tf.contrib.layers.xavier_initializer())\n",
    "    ss_b = tf.Variable(tf.constant(1.0, shape=[num_digits+1]), name='BSS')\n",
    "    \n",
    "    # Digits\n",
    "    s1_w = tf.get_variable(\"WS1\", shape=[num_hidden2, num_labels],\\\n",
    "                           initializer=tf.contrib.layers.xavier_initializer())\n",
    "    s1_b = tf.Variable(tf.constant(1.0, shape=[num_labels]), name='BS1')\n",
    "    s2_w = tf.get_variable(\"WS2\", shape=[num_hidden2, num_labels],\\\n",
    "                           initializer=tf.contrib.layers.xavier_initializer())\n",
    "    s2_b = tf.Variable(tf.constant(1.0, shape=[num_labels]), name='BS2')\n",
    "    s3_w = tf.get_variable(\"WS3\", shape=[num_hidden2, num_labels],\\\n",
    "                           initializer=tf.contrib.layers.xavier_initializer())\n",
    "    s3_b = tf.Variable(tf.constant(1.0, shape=[num_labels]), name='BS3')   \n",
    "    s4_w = tf.get_variable(\"WS4\", shape=[num_hidden2, num_labels],\\\n",
    "                           initializer=tf.contrib.layers.xavier_initializer())\n",
    "    s4_b = tf.Variable(tf.constant(1.0, shape=[num_labels]), name='BS4') \n",
    "    \n",
    "    # Model.\n",
    "    def model(data, keep_prob):\n",
    "        conv = tf.nn.conv2d(data, layer1_weights, [1,1,1,1], 'VALID', name='C1')\n",
    "        hidden = tf.nn.relu(conv + layer1_biases)\n",
    "        lrn = tf.nn.local_response_normalization(hidden)\n",
    "        sub = tf.nn.max_pool(lrn, [1,2,2,1], [1,2,2,1], 'SAME', name='S2')\n",
    "        \n",
    "        conv = tf.nn.conv2d(sub, layer2_weights, [1,1,1,1], padding='VALID', name='C3')\n",
    "        hidden = tf.nn.relu(conv + layer2_biases)\n",
    "        lrn = tf.nn.local_response_normalization(hidden)\n",
    "        sub = tf.nn.max_pool(lrn, [1,2,2,1], [1,2,2,1], 'SAME', name='S4')\n",
    "        \n",
    "        conv = tf.nn.conv2d(sub, layer3_weights, [1,1,1,1], padding='VALID', name='C5')\n",
    "        hidden = tf.nn.relu(conv + layer3_biases)\n",
    "        hidden = tf.nn.dropout(hidden, keep_prob)\n",
    "        shape = hidden.get_shape().as_list()\n",
    "        reshape = tf.reshape(hidden, [shape[0], shape[1] * shape[2] * shape[3]])\n",
    "\n",
    "        logits0 = tf.matmul(reshape, ss_w) + ss_b\n",
    "        # This concat only allow us to have a one hot vector like the others (to pack the results in the following lines)\n",
    "        logits0 = tf.concat(1, [logits0, tf.zeros([shape[0],6])])\n",
    "        logits1 = tf.matmul(reshape, s1_w) + s1_b\n",
    "        logits2 = tf.matmul(reshape, s2_w) + s2_b\n",
    "        logits3 = tf.matmul(reshape, s3_w) + s3_b\n",
    "        logits4 = tf.matmul(reshape, s4_w) + s4_b\n",
    "        return [logits0, logits1, logits2, logits3, logits4]\n",
    "    \n",
    "    # Training computation.\n",
    "    [logits0, logits1, logits2, logits3, logits4] = model(tf_train_dataset, 0.975)\n",
    "    loss = tf.reduce_mean(tf.nn.sparse_softmax_cross_entropy_with_logits(logits0, tf_train_labels[:,0])) +\\\n",
    "        tf.reduce_mean(tf.nn.sparse_softmax_cross_entropy_with_logits(logits1, tf_train_labels[:,1])) +\\\n",
    "        tf.reduce_mean(tf.nn.sparse_softmax_cross_entropy_with_logits(logits2, tf_train_labels[:,2])) +\\\n",
    "        tf.reduce_mean(tf.nn.sparse_softmax_cross_entropy_with_logits(logits3, tf_train_labels[:,3])) +\\\n",
    "        tf.reduce_mean(tf.nn.sparse_softmax_cross_entropy_with_logits(logits4, tf_train_labels[:,4]))\n",
    "        \n",
    "    # Optimizer.\n",
    "    global_step = tf.Variable(0)\n",
    "    learning_rate = tf.train.exponential_decay(0.05, global_step, 10000, 0.95)\n",
    "    optimizer = tf.train.AdagradOptimizer(learning_rate).minimize(loss, global_step=global_step)\n",
    "    \n",
    "    \n",
    "    # Predictions for the training, validation, and test data.\n",
    "    train_prediction = tf.pack([tf.nn.softmax(model(tf_train_dataset, 1.0)[0]),\\\n",
    "                                tf.nn.softmax(model(tf_train_dataset, 1.0)[1]),\\\n",
    "                                tf.nn.softmax(model(tf_train_dataset, 1.0)[2]),\\\n",
    "                                tf.nn.softmax(model(tf_train_dataset, 1.0)[3]),\\\n",
    "                                tf.nn.softmax(model(tf_train_dataset, 1.0)[4])])\n",
    "    valid_prediction = tf.pack([tf.nn.softmax(model(tf_valid_dataset, 1.0)[0]),\\\n",
    "                                tf.nn.softmax(model(tf_valid_dataset, 1.0)[1]),\\\n",
    "                                tf.nn.softmax(model(tf_valid_dataset, 1.0)[2]),\\\n",
    "                                tf.nn.softmax(model(tf_valid_dataset, 1.0)[3]),\\\n",
    "                                tf.nn.softmax(model(tf_valid_dataset, 1.0)[4])])\n",
    "    test_prediction = tf.pack([tf.nn.softmax(model(tf_test_dataset, 1.0)[0]),\\\n",
    "                                tf.nn.softmax(model(tf_test_dataset, 1.0)[1]),\\\n",
    "                                tf.nn.softmax(model(tf_test_dataset, 1.0)[2]),\\\n",
    "                                tf.nn.softmax(model(tf_test_dataset, 1.0)[3]),\\\n",
    "                                tf.nn.softmax(model(tf_test_dataset, 1.0)[4])])\n",
    "    \n",
    "    saver = tf.train.Saver()"
   ]
  },
  {
   "cell_type": "code",
   "execution_count": 11,
   "metadata": {
    "collapsed": false
   },
   "outputs": [
    {
     "name": "stdout",
     "output_type": "stream",
     "text": [
      "Initialized\n",
      "Minibatch loss at step 0: 13.656919\n",
      "Minibatch accuracy: 9.4%\n",
      "Validation accuracy: 28.3%\n",
      "Minibatch loss at step 500: 4.450424\n",
      "Minibatch accuracy: 69.1%\n",
      "Validation accuracy: 69.2%\n",
      "Minibatch loss at step 1000: 3.041061\n",
      "Minibatch accuracy: 79.7%\n",
      "Validation accuracy: 77.9%\n",
      "Minibatch loss at step 1500: 2.184394\n",
      "Minibatch accuracy: 85.9%\n",
      "Validation accuracy: 83.6%\n",
      "Minibatch loss at step 2000: 2.114888\n",
      "Minibatch accuracy: 87.5%\n",
      "Validation accuracy: 85.2%\n",
      "Minibatch loss at step 2500: 1.843859\n",
      "Minibatch accuracy: 89.1%\n",
      "Validation accuracy: 87.5%\n",
      "Minibatch loss at step 3000: 1.476864\n",
      "Minibatch accuracy: 91.6%\n",
      "Validation accuracy: 88.5%\n",
      "Minibatch loss at step 3500: 1.116499\n",
      "Minibatch accuracy: 93.1%\n",
      "Validation accuracy: 89.4%\n",
      "Minibatch loss at step 4000: 2.062691\n",
      "Minibatch accuracy: 86.6%\n",
      "Validation accuracy: 89.9%\n",
      "Minibatch loss at step 4500: 1.272256\n",
      "Minibatch accuracy: 93.1%\n",
      "Validation accuracy: 90.7%\n",
      "Minibatch loss at step 5000: 1.102963\n",
      "Minibatch accuracy: 93.1%\n",
      "Validation accuracy: 91.4%\n",
      "Minibatch loss at step 5500: 1.694335\n",
      "Minibatch accuracy: 89.7%\n",
      "Validation accuracy: 90.6%\n",
      "Minibatch loss at step 6000: 1.745351\n",
      "Minibatch accuracy: 89.1%\n",
      "Validation accuracy: 91.7%\n",
      "Minibatch loss at step 6500: 1.562683\n",
      "Minibatch accuracy: 91.6%\n",
      "Validation accuracy: 91.5%\n",
      "Minibatch loss at step 7000: 1.546259\n",
      "Minibatch accuracy: 91.2%\n",
      "Validation accuracy: 91.9%\n",
      "Minibatch loss at step 7500: 1.051396\n",
      "Minibatch accuracy: 93.1%\n",
      "Validation accuracy: 92.2%\n",
      "Minibatch loss at step 8000: 1.200009\n",
      "Minibatch accuracy: 91.9%\n",
      "Validation accuracy: 92.4%\n",
      "Minibatch loss at step 8500: 1.342225\n",
      "Minibatch accuracy: 91.9%\n",
      "Validation accuracy: 92.6%\n",
      "Minibatch loss at step 9000: 1.416820\n",
      "Minibatch accuracy: 91.9%\n",
      "Validation accuracy: 92.9%\n",
      "Minibatch loss at step 9500: 1.204355\n",
      "Minibatch accuracy: 91.6%\n",
      "Validation accuracy: 92.6%\n",
      "Minibatch loss at step 10000: 1.265328\n",
      "Minibatch accuracy: 93.1%\n",
      "Validation accuracy: 92.8%\n",
      "Minibatch loss at step 10500: 1.353276\n",
      "Minibatch accuracy: 94.1%\n",
      "Validation accuracy: 93.2%\n",
      "Minibatch loss at step 11000: 1.192454\n",
      "Minibatch accuracy: 91.9%\n",
      "Validation accuracy: 93.2%\n",
      "Minibatch loss at step 11500: 1.797602\n",
      "Minibatch accuracy: 91.2%\n",
      "Validation accuracy: 93.3%\n",
      "Minibatch loss at step 12000: 1.239456\n",
      "Minibatch accuracy: 93.8%\n",
      "Validation accuracy: 93.5%\n",
      "Minibatch loss at step 12500: 0.850305\n",
      "Minibatch accuracy: 97.2%\n",
      "Validation accuracy: 93.3%\n",
      "Minibatch loss at step 13000: 1.577824\n",
      "Minibatch accuracy: 90.0%\n",
      "Validation accuracy: 93.4%\n",
      "Minibatch loss at step 13500: 1.583145\n",
      "Minibatch accuracy: 91.9%\n",
      "Validation accuracy: 93.4%\n",
      "Minibatch loss at step 14000: 0.938913\n",
      "Minibatch accuracy: 94.7%\n",
      "Validation accuracy: 93.5%\n",
      "Minibatch loss at step 14500: 0.796062\n",
      "Minibatch accuracy: 95.9%\n",
      "Validation accuracy: 93.7%\n",
      "Test accuracy: 93.7%\n",
      "Model saved in file: Models/Synthetic_Model.ckpt\n"
     ]
    }
   ],
   "source": [
    "filename = \"Models/Synthetic_Model.ckpt\"\n",
    "num_steps = 15000\n",
    "\n",
    "with tf.Session(graph=graph) as session:\n",
    "    tf.initialize_all_variables().run()  \n",
    "    \n",
    "    if os.path.exists(filename):\n",
    "        reader = tf.train.NewCheckpointReader(filename)\n",
    "        reader.get_variable_to_shape_map()\n",
    "        saver.restore(session, filename)\n",
    "        print('Model restored.')\n",
    "    print('Initialized')\n",
    "  \n",
    "    for step in range(num_steps):\n",
    "        offset = (step * batch_size) % (train_labels.shape[0] - batch_size)\n",
    "        batch_data = train_dataset[offset:(offset + batch_size), :, :, :]\n",
    "        batch_labels = train_labels[offset:(offset + batch_size),:]\n",
    "        feed_dict = {tf_train_dataset : batch_data, tf_train_labels : batch_labels}\n",
    "        \n",
    "        _, l, predictions = session.run([optimizer, loss, train_prediction], feed_dict=feed_dict)\n",
    "        \n",
    "        if (step % 500 == 0): \n",
    "            print('Minibatch loss at step %d: %f' % (step, l))\n",
    "            print('Minibatch accuracy: %.1f%%' % accuracy(predictions, batch_labels[:,0:]))\n",
    "            print('Validation accuracy: %.1f%%' % accuracy(valid_prediction.eval(), valid_labels[:,0:]))\n",
    "            \n",
    "    print('Test accuracy: %.1f%%' % accuracy(test_prediction.eval(), test_labels[:,0:]))\n",
    "    save_path = saver.save(session, filename)\n",
    "    print(\"Model saved in file: %s\" % save_path)    "
   ]
  },
  {
   "cell_type": "markdown",
   "metadata": {},
   "source": [
    "## Performance on Testing set\n",
    "\n",
    "Selecting 10 random images"
   ]
  },
  {
   "cell_type": "code",
   "execution_count": 12,
   "metadata": {
    "collapsed": false
   },
   "outputs": [
    {
     "data": {
      "image/png": "[encoded data removed]",
      "text/plain": [
       "<matplotlib.figure.Figure at 0x7f3dc003d250>"
      ]
     },
     "metadata": {},
     "output_type": "display_data"
    }
   ],
   "source": [
    "from PIL import Image\n",
    "import os\n",
    "import sys\n",
    "import matplotlib.pyplot as plt\n",
    "%matplotlib inline\n",
    "\n",
    "plt.rcParams['figure.figsize'] = (20.0, 20.0)\n",
    "f, ax = plt.subplots(nrows=1, ncols=10)\n",
    "\n",
    "im_samples = []\n",
    "    \n",
    "for i,j in enumerate(np.sort(np.random.randint(0, test_labels.shape[0], size = 10))):\n",
    "    im_samples.extend([j])\n",
    "    ax[i].axis('off')\n",
    "    label = test_labels[j,1:1+test_labels[j,0]]\n",
    "    ax[i].set_title(label, loc='center')\n",
    "    ax[i].imshow(test_dataset[j,:,:,0],cmap=\"gray\")\n"
   ]
  },
  {
   "cell_type": "code",
   "execution_count": null,
   "metadata": {
    "collapsed": true
   },
   "outputs": [],
   "source": []
  }
 ],
 "metadata": {
  "kernelspec": {
   "display_name": "Python 2",
   "language": "python",
   "name": "python2"
  },
  "language_info": {
   "codemirror_mode": {
    "name": "ipython",
    "version": 2
   },
   "file_extension": ".py",
   "mimetype": "text/x-python",
   "name": "python",
   "nbconvert_exporter": "python",
   "pygments_lexer": "ipython2",
   "version": "2.7.6"
  }
 },
 "nbformat": 4,
 "nbformat_minor": 0
}
