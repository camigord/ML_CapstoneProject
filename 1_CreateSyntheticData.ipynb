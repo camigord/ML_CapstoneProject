{
 "cells": [
  {
   "cell_type": "markdown",
   "metadata": {},
   "source": [
    "# Creating Synthetic Dataset\n",
    "\n",
    "Use this file to create a synthetic dataset by concatenating single digits from the MNIST dataset. "
   ]
  },
  {
   "cell_type": "code",
   "execution_count": 1,
   "metadata": {
    "collapsed": false
   },
   "outputs": [
    {
     "name": "stdout",
     "output_type": "stream",
     "text": [
      "Extracting MNIST_data/train-images-idx3-ubyte.gz\n",
      "Extracting MNIST_data/train-labels-idx1-ubyte.gz\n",
      "Extracting MNIST_data/t10k-images-idx3-ubyte.gz\n",
      "Extracting MNIST_data/t10k-labels-idx1-ubyte.gz\n"
     ]
    }
   ],
   "source": [
    "# Load libraries and MNIST data\n",
    "import numpy as np\n",
    "from tensorflow.examples.tutorials.mnist import input_data\n",
    "from scipy.misc import imresize\n",
    "import os\n",
    "\n",
    "mnist = input_data.read_data_sets(\"MNIST_data/\", one_hot=False)"
   ]
  },
  {
   "cell_type": "code",
   "execution_count": 2,
   "metadata": {
    "collapsed": true
   },
   "outputs": [],
   "source": [
    "# This function takes two images and joins them after shifting the second image by a given factor\n",
    "def concatenate_two_images(img1,img2,shift):\n",
    "    if shift == 0:\n",
    "        img_result = np.concatenate((img1, img2), axis=1)\n",
    "    else:\n",
    "        # If there is a shift, we need to fill the empty areas with zeros. \n",
    "        fill1 = np.zeros((abs(shift), img1.shape[1]))\n",
    "        fill2 = np.zeros((img1.shape[0]+abs(shift)-img2.shape[0], img2.shape[1]))\n",
    "        if shift > 0:\n",
    "            img1 = np.concatenate((img1, fill1), axis=0)\n",
    "            img2 = np.concatenate((fill2, img2), axis=0)\n",
    "        else:\n",
    "            img2 = np.concatenate((img2, fill2), axis=0)\n",
    "            img1 = np.concatenate((fill1, img1), axis=0)\n",
    "        img_result = np.concatenate((img1, img2), axis=1)\n",
    "    return img_result"
   ]
  },
  {
   "cell_type": "markdown",
   "metadata": {},
   "source": [
    "### Generating synthetic samples"
   ]
  },
  {
   "cell_type": "code",
   "execution_count": 3,
   "metadata": {
    "collapsed": false
   },
   "outputs": [
    {
     "name": "stdout",
     "output_type": "stream",
     "text": [
      "((200000, 32, 32, 1), (200000, 5))\n"
     ]
    }
   ],
   "source": [
    "SIZE = 28              # MNIST image size\n",
    "SIZE_SYNTHETIC = 32    # Output image size\n",
    "BACTH_SIZE = 100       # Number of images to load before randomly selecting a subset of digits\n",
    "NUM_DIGITS = 4         # Maximum number of digits to concatenate\n",
    "NUM_CYCLES = 200000    # Number of synthetic images to create\n",
    "\n",
    "# Create folder where the synthetic data will be located\n",
    "if not os.path.exists('Synthetic_data/'):\n",
    "    os.makedirs('Synthetic_data/')\n",
    "\n",
    "dataset = np.ndarray([NUM_CYCLES,SIZE_SYNTHETIC,SIZE_SYNTHETIC,1], dtype='float32')\n",
    "# Labels will also contain the number of digits in the sequence\n",
    "labels = np.ones([NUM_CYCLES,NUM_DIGITS+1], dtype=int) * 10\n",
    "\n",
    "# This is used for randomly selecting the number of digits\n",
    "segment_size = 1/float(NUM_DIGITS)\n",
    "\n",
    "for i in xrange(0,NUM_CYCLES):\n",
    "    image, label = mnist.train.next_batch(BACTH_SIZE)\n",
    "    image = np.reshape(image,[-1,SIZE,SIZE])\n",
    "\n",
    "    list_labels = []\n",
    "\n",
    "    # We have a minimum of one digit per image\n",
    "    idx = np.random.randint(0, BACTH_SIZE)\n",
    "    img_result = image[idx, :, :]\n",
    "    concat_labels = np.array(label[idx])\n",
    "    num_digits = 1\n",
    "    \n",
    "    # Random shift used when concatenating digits\n",
    "    shift = np.random.randint(-SIZE, SIZE)\n",
    "        \n",
    "    # Randomly choose how many digits will be added\n",
    "    ran_num = np.random.random()\n",
    "    # This loop concatenates digits according to the value in ran_num\n",
    "    # We compute segment size in order to give the same probability to all digit sizes \n",
    "    for k in xrange(int(ran_num // segment_size)):\n",
    "        num_digits += 1\n",
    "        idx = np.random.randint(0, BACTH_SIZE)\n",
    "        img = image[idx, :, :]\n",
    "        \n",
    "        img_result = concatenate_two_images(img_result, img, shift)\n",
    "        concat_labels = np.append(concat_labels, label[idx])\n",
    "        \n",
    "    # Filling remaining labels with '10' which represents missing digit\n",
    "    for k in xrange(NUM_DIGITS - num_digits):\n",
    "        concat_labels = np.append(concat_labels, [10])\n",
    "\n",
    "    img_result = imresize(img_result,(SIZE_SYNTHETIC,SIZE_SYNTHETIC))\n",
    "    img_result = np.reshape(img_result,[1,SIZE_SYNTHETIC,SIZE_SYNTHETIC,1])\n",
    "    \n",
    "    # Substracting mean from images\n",
    "    mean = np.mean(img_result, dtype='float32')\n",
    "    img_result = img_result - mean\n",
    "    dataset[i,:,:,:] = img_result\n",
    "    labels[i,:] = np.append(num_digits, concat_labels)\n",
    "    \n",
    "print(dataset.shape, labels.shape)"
   ]
  },
  {
   "cell_type": "markdown",
   "metadata": {},
   "source": [
    "Splitting the dataset into Training, Testing and Validation"
   ]
  },
  {
   "cell_type": "code",
   "execution_count": 4,
   "metadata": {
    "collapsed": false
   },
   "outputs": [
    {
     "name": "stdout",
     "output_type": "stream",
     "text": [
      "((160000, 32, 32, 1), (160000, 5))\n",
      "((30000, 32, 32, 1), (30000, 5))\n",
      "((10000, 32, 32, 1), (10000, 5))\n"
     ]
    }
   ],
   "source": [
    "training_prop = 0.8\n",
    "testing_prop = 0.15\n",
    "validation_prop = 0.05\n",
    "\n",
    "train_dataset = dataset[:int(NUM_CYCLES*training_prop)]\n",
    "train_labels = labels[:int(NUM_CYCLES*training_prop)]\n",
    "test_dataset = dataset[int(NUM_CYCLES*training_prop):int(NUM_CYCLES*training_prop)+int(NUM_CYCLES*testing_prop)]\n",
    "test_labels = labels[int(NUM_CYCLES*training_prop):int(NUM_CYCLES*training_prop)+int(NUM_CYCLES*testing_prop)]\n",
    "valid_dataset = dataset[int(NUM_CYCLES*training_prop)+int(NUM_CYCLES*testing_prop):]\n",
    "valid_labels = labels[int(NUM_CYCLES*training_prop)+int(NUM_CYCLES*testing_prop):]\n",
    "\n",
    "print(train_dataset.shape, train_labels.shape)\n",
    "print(test_dataset.shape, test_labels.shape)\n",
    "print(valid_dataset.shape, valid_labels.shape)"
   ]
  },
  {
   "cell_type": "markdown",
   "metadata": {},
   "source": [
    "## Saving data as Pickle file\n",
    "\n",
    "If the dataset is small, you could save it as a pickle file and load everything into memory when training. "
   ]
  },
  {
   "cell_type": "code",
   "execution_count": 5,
   "metadata": {
    "collapsed": false
   },
   "outputs": [
    {
     "name": "stdout",
     "output_type": "stream",
     "text": [
      "('Compressed pickle size:', 827200456)\n"
     ]
    }
   ],
   "source": [
    "from six.moves import cPickle as pickle\n",
    "\n",
    "pickle_name = 'SyntheticData32.pickle'\n",
    "file_name = os.path.join('Synthetic_data', pickle_name)\n",
    "\n",
    "try:\n",
    "    f = open(file_name, 'wb')\n",
    "    save = {\n",
    "        'train_dataset': train_dataset,\n",
    "        'train_labels': train_labels,\n",
    "        'valid_dataset': valid_dataset,\n",
    "        'valid_labels': valid_labels,\n",
    "        'test_dataset': test_dataset,\n",
    "        'test_labels': test_labels,\n",
    "    }\n",
    "    pickle.dump(save, f, pickle.HIGHEST_PROTOCOL)\n",
    "    f.close()\n",
    "except Exception as e:\n",
    "    print('Unable to save data to', file_name, ':', e)\n",
    "    raise\n",
    "    \n",
    "statinfo = os.stat(file_name)\n",
    "print('Compressed pickle size:', statinfo.st_size)"
   ]
  },
  {
   "cell_type": "markdown",
   "metadata": {},
   "source": [
    "### Loading pickle and visualizing dataset"
   ]
  },
  {
   "cell_type": "code",
   "execution_count": 6,
   "metadata": {
    "collapsed": false
   },
   "outputs": [],
   "source": [
    "from six.moves import cPickle as pickle\n",
    "pickle_name = 'SyntheticData32.pickle'\n",
    "file_name = os.path.join('Synthetic_data', pickle_name)\n",
    "\n",
    "with open(file_name, 'rb') as f:\n",
    "    save = pickle.load(f)\n",
    "    train_dataset = save['train_dataset']\n",
    "    train_labels = save['train_labels']\n",
    "    valid_dataset = save['valid_dataset']\n",
    "    valid_labels = save['valid_labels']\n",
    "    test_dataset = save['test_dataset']\n",
    "    test_labels = save['test_labels']\n",
    "    del save"
   ]
  },
  {
   "cell_type": "code",
   "execution_count": 7,
   "metadata": {
    "collapsed": false
   },
   "outputs": [
    {
     "data": {
      "image/png": "[encoded data removed]",
      "text/plain": [
       "<matplotlib.figure.Figure at 0x7fe9d528dad0>"
      ]
     },
     "metadata": {},
     "output_type": "display_data"
    }
   ],
   "source": [
    "from PIL import Image\n",
    "import os\n",
    "import sys\n",
    "import matplotlib.pyplot as plt\n",
    "%matplotlib inline\n",
    "\n",
    "plt.rcParams['figure.figsize'] = (20.0, 20.0)\n",
    "f, ax = plt.subplots(nrows=1, ncols=5)\n",
    "\n",
    "im_samples = []\n",
    "    \n",
    "for i,j in enumerate(np.sort(np.random.randint(0, train_labels.shape[0], size = 5))):\n",
    "    im_samples.extend([j])\n",
    "    ax[i].axis('off')\n",
    "    label = train_labels[j,1:1+train_labels[j,0]]\n",
    "    ax[i].set_title(label, loc='center')\n",
    "    ax[i].imshow(train_dataset[j,:,:,0],cmap=\"gray\")"
   ]
  },
  {
   "cell_type": "code",
   "execution_count": null,
   "metadata": {
    "collapsed": true
   },
   "outputs": [],
   "source": []
  }
 ],
 "metadata": {
  "kernelspec": {
   "display_name": "Python 2",
   "language": "python",
   "name": "python2"
  },
  "language_info": {
   "codemirror_mode": {
    "name": "ipython",
    "version": 2
   },
   "file_extension": ".py",
   "mimetype": "text/x-python",
   "name": "python",
   "nbconvert_exporter": "python",
   "pygments_lexer": "ipython2",
   "version": "2.7.6"
  }
 },
 "nbformat": 4,
 "nbformat_minor": 0
}
